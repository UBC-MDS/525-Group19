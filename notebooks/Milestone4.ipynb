{
 "cells": [
  {
   "cell_type": "markdown",
   "id": "795dbd40",
   "metadata": {},
   "source": [
    "# DSCI 525 - Web and Cloud Computing"
   ]
  },
  {
   "cell_type": "markdown",
   "id": "726f0ddc",
   "metadata": {},
   "source": [
    "***Milestone 4:*** In this milestone, you will deploy the machine learning model you trained in milestone 3."
   ]
  },
  {
   "cell_type": "markdown",
   "id": "2b929a0f",
   "metadata": {},
   "source": [
    "Milestone 4 checklist :\n",
    "\n",
    "- [X] Use an EC2 instance.\n",
    "- [X] Develop your API here in this notebook.\n",
    "- [X] Copy it to ```app.py``` file in EC2 instance.\n",
    "- [X] Run your API for other consumers and test among your colleagues.\n",
    "- [X] Summarize your journey."
   ]
  },
  {
   "cell_type": "code",
   "execution_count": 3,
   "id": "8c304890",
   "metadata": {},
   "outputs": [],
   "source": [
    "## Import all the packages that you need\n",
    "import numpy as np\n",
    "import pandas as pd\n",
    "from sklearn.metrics import mean_squared_error\n",
    "from sklearn.ensemble import RandomForestRegressor\n",
    "from sklearn.model_selection import train_test_split"
   ]
  },
  {
   "cell_type": "markdown",
   "id": "5a867dc1",
   "metadata": {},
   "source": [
    "## 1. Develop your API\n",
    "\n",
    "rubric={mechanics:45}"
   ]
  },
  {
   "cell_type": "markdown",
   "id": "296387ad",
   "metadata": {},
   "source": [
    "### Solution for task1\n",
    "\n",
    "```python\n",
    "from flask import Flask, request, jsonify\n",
    "import joblib\n",
    "\n",
    "app = Flask(__name__)\n",
    "\n",
    "# 1. Load your model here\n",
    "model = joblib.load(\"model.joblib\")\n",
    "\n",
    "# 2. Define a prediction function\n",
    "def return_prediction(input_data):\n",
    "\n",
    "    # format input_data here so that you can pass it to model.predict()\n",
    "\n",
    "    return model.predict([input_data])[0]\n",
    "\n",
    "# 3. Set up home page using basic html\n",
    "@app.route(\"/\")\n",
    "def index():\n",
    "    # feel free to customize this if you like\n",
    "    return \"\"\"\n",
    "    <h1>Welcome to our rain prediction service</h1>\n",
    "    To use this service, make a JSON post request to the /predict url with 5 climate model outputs.\n",
    "    \"\"\"\n",
    "\n",
    "# 4. define a new route which will accept POST requests and return model predictions\n",
    "@app.route('/predict', methods=['POST'])\n",
    "def rainfall_prediction():\n",
    "    content = request.json  # this extracts the JSON content we sent\n",
    "    prediction = return_prediction(content['data'])\n",
    "    \n",
    "    # return whatever data you wish, it can be just the prediction\n",
    "    # or it can be the prediction plus the input data, it's up to you\n",
    "    results = {\n",
    "        \"input\": content[\"data\"],\n",
    "        \"prediction\": prediction\n",
    "    }  \n",
    "    \n",
    "    return jsonify(results)\n",
    "```"
   ]
  },
  {
   "cell_type": "markdown",
   "id": "a5ae2e56",
   "metadata": {},
   "source": [
    "## 2. Deploy your API\n",
    "\n",
    "rubric={mechanics:40}"
   ]
  },
  {
   "cell_type": "markdown",
   "id": "e2949200",
   "metadata": {},
   "source": [
    "<img src=\"img/milestone4.PNG\" alt=\"\" height=\"900\" width=\"900\"> "
   ]
  },
  {
   "cell_type": "markdown",
   "id": "ac247f69",
   "metadata": {},
   "source": [
    "## 3. Summarize your journey from Milestone 1 to Milestone 4\n",
    "rubric={mechanics:10}\n",
    "> - In Milestone 1 we downloaded data from the web and learned how frustrating it can be to work with large data using common wrangling libraries like Pandas and tidyverse and with \"vanilla\" file formats such as .csv.  After this experience, we were ready to move on to more sophisticated methods of working with big data! \n",
    "> - In Milestone 2 we set up the required infrastructure needed to process and store big data in the cloud (scale-up).  We used the AWS user interface by setting up our own EC2 instance and S3 bucket, and connected to the cloud from our local terminal.  We also prepared the data to be used in our ML model in the next milestone. \n",
    "> - In Milestone 3 we set up the distributed infrastructure for a scale-out solution using EMR and spark, again using the AWS user interface and connecting via our local terminal.  We used spark's MLlib to identify the best hyperparameters.  Then trained our ML model with this hyperparameters and saved the trained model to S3. \n",
    "> - In Milestone 4 we deployed our ML model using flask so it can be used by other \"consumers\". "
   ]
  },
  {
   "cell_type": "markdown",
   "id": "24deb469",
   "metadata": {},
   "source": [
    "## 4. Submission instructions\n",
    "rubric={mechanics:5}\n",
    "\n",
    "In the textbox provided on Canvas please put a link where TAs can find the following-\n",
    "- [X] This notebook with solution to ```1 & 3```\n",
    "- [X] Screenshot from \n",
    "    - [X] Output after trying curl. Here is a [sample](https://github.ubc.ca/MDS-2020-21/DSCI_525_web-cloud-comp_students/blob/master/Milestones/milestone4/images/curl_deploy_sample.png). This is just an example; your input/output doesn't have to look like this, you can design the way you like. But at a minimum, it should show your prediction value."
   ]
  }
 ],
 "metadata": {
  "kernelspec": {
   "display_name": "Python 3",
   "language": "python",
   "name": "python3"
  },
  "language_info": {
   "codemirror_mode": {
    "name": "ipython",
    "version": 3
   },
   "file_extension": ".py",
   "mimetype": "text/x-python",
   "name": "python",
   "nbconvert_exporter": "python",
   "pygments_lexer": "ipython3",
   "version": "3.8.8"
  }
 },
 "nbformat": 4,
 "nbformat_minor": 5
}

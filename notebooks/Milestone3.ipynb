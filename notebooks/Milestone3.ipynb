{
 "cells": [
  {
   "cell_type": "markdown",
   "id": "9cf60a99",
   "metadata": {},
   "source": [
    "# DSCI 525 - Web and Cloud Computing"
   ]
  },
  {
   "cell_type": "markdown",
   "id": "f6078cfe",
   "metadata": {},
   "source": [
    "***Milestone 3:*** The purpose of this milestone is to set up your spark cluster and develop your machine learning to deploy in the cloud for the next milestone"
   ]
  },
  {
   "cell_type": "markdown",
   "id": "300eaff5",
   "metadata": {},
   "source": [
    "## Milestone 3 checklist  :"
   ]
  },
  {
   "cell_type": "markdown",
   "id": "7717d115",
   "metadata": {},
   "source": [
    "- [X] Setup your EMR cluster with Spark & JupyterHub.  \n",
    "- [X] Setup your WebBrowser(Firefox) for EMR.\n",
    "- [X] Develop a ML model using scikit-learn. (We will be using this model to deploy for our next milestone.)\n",
    "- [X] Obtain best hyperparameter settings using spark's MLlib.\n",
    "\n",
    "\n",
    "***SUBMISSION:*** Please put a link in canvas where TAs can find the following-\n",
    "- [X] Python 3 notebook, with the code for ML model in scikit-learn. (You can develop this on your existing jupyterHub in your EC2 instance, from milestone2)\n",
    "- [X] PySpark notebook, with the code for obtaining best hyperparameter settings. ( For this you have to use PySpark notebook in your EMR cluster )\n",
    "- [X] Screenshot from \n",
    "    - [X] Setup your EMR cluster (Task 1).\n",
    "    - [X] Setup your browser , jupyter environment & connect to the master node (Task 2). \n",
    "    - [X] Your S3 bucket showing ```model.joblib``` file. (From Task 3 Develop a ML model using scikit-learn)"
   ]
  },
  {
   "cell_type": "markdown",
   "id": "66450a22",
   "metadata": {},
   "source": [
    "\n"
   ]
  },
  {
   "cell_type": "markdown",
   "id": "69703a22",
   "metadata": {},
   "source": [
    "### 1. Setup your EMR cluster\n",
    "rubric={correctness:25}"
   ]
  },
  {
   "cell_type": "markdown",
   "id": "c78d0296",
   "metadata": {},
   "source": [
    "<img src=\"img/milestone3_ex1.png\" alt=\"\" height=\"900\" width=\"900\"> "
   ]
  },
  {
   "cell_type": "markdown",
   "id": "b95aef87",
   "metadata": {},
   "source": [
    "\n"
   ]
  },
  {
   "cell_type": "markdown",
   "id": "e56f6a97",
   "metadata": {},
   "source": [
    "### 2. Setup your browser , jupyter environment & connect to the master node.\n",
    "rubric={correctness:25}"
   ]
  },
  {
   "cell_type": "markdown",
   "id": "ab31c6d5",
   "metadata": {},
   "source": [
    "\n"
   ]
  },
  {
   "cell_type": "markdown",
   "id": "881405f6",
   "metadata": {},
   "source": [
    "<img src=\"img/milestone3_ex2.png\" alt=\"\" height=\"900\" width=\"900\"> "
   ]
  },
  {
   "cell_type": "markdown",
   "id": "6949c6cc",
   "metadata": {},
   "source": [
    "### 3. Develop a ML model using scikit-learn.\n",
    "rubric={correctness:25}"
   ]
  },
  {
   "cell_type": "markdown",
   "id": "cf903cd3",
   "metadata": {},
   "source": [
    "[Link to Task3 Notebook](https://github.com/UBC-MDS/525-Group19/blob/main/notebooks/Milestone3-Task3.ipynb)"
   ]
  },
  {
   "cell_type": "markdown",
   "id": "20df497a",
   "metadata": {},
   "source": [
    "Screenshot of S3 bucket showing `model.joblib` file can be found in the Task3 notebook"
   ]
  },
  {
   "cell_type": "markdown",
   "id": "96289b92",
   "metadata": {},
   "source": [
    "\n"
   ]
  },
  {
   "cell_type": "markdown",
   "id": "b4af9f8e",
   "metadata": {},
   "source": [
    "### 4. Obtain best hyperparameter settings using spark's MLlib.\n",
    "rubric={correctness:20}"
   ]
  },
  {
   "cell_type": "markdown",
   "id": "a6f5f488",
   "metadata": {},
   "source": [
    "[Link to Task4 Notebook](https://github.com/UBC-MDS/525-Group19/blob/main/notebooks/Milestone3-Task4.ipynb)"
   ]
  },
  {
   "cell_type": "markdown",
   "id": "bb9db538",
   "metadata": {},
   "source": [
    "\n",
    "### 5. Submission instructions\n",
    "\n",
    "rubric={mechanics:5}\n",
    "\n",
    "In the textbox provided on Canvas for the Milestone 1 assignment include:\n",
    "\n",
    "The URL of your public project's repository\n",
    "The URL of your notebook for this milestone"
   ]
  }
 ],
 "metadata": {
  "kernelspec": {
   "display_name": "Python 3",
   "language": "python",
   "name": "python3"
  },
  "language_info": {
   "codemirror_mode": {
    "name": "ipython",
    "version": 3
   },
   "file_extension": ".py",
   "mimetype": "text/x-python",
   "name": "python",
   "nbconvert_exporter": "python",
   "pygments_lexer": "ipython3",
   "version": "3.8.8"
  }
 },
 "nbformat": 4,
 "nbformat_minor": 5
}

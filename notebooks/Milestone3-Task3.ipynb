{
 "cells": [
  {
   "cell_type": "markdown",
   "metadata": {},
   "source": [
    "# Task 3"
   ]
  },
  {
   "cell_type": "markdown",
   "metadata": {},
   "source": [
    "# Imports"
   ]
  },
  {
   "cell_type": "code",
   "execution_count": 1,
   "metadata": {},
   "outputs": [
    {
     "name": "stderr",
     "output_type": "stream",
     "text": [
      "Matplotlib created a temporary config/cache directory at /tmp/matplotlib-ds1gv_5i because the default path (/home/jupyter-student55/.cache/matplotlib) is not a writable directory; it is highly recommended to set the MPLCONFIGDIR environment variable to a writable directory, in particular to speed up the import of Matplotlib and to better support multiprocessing.\n"
     ]
    }
   ],
   "source": [
    "import numpy as np\n",
    "import pandas as pd\n",
    "from joblib import dump, load\n",
    "from sklearn.metrics import mean_squared_error\n",
    "from sklearn.ensemble import RandomForestRegressor\n",
    "from sklearn.model_selection import train_test_split\n",
    "import matplotlib.pyplot as plt\n",
    "plt.style.use('ggplot')\n",
    "plt.rcParams.update({'font.size': 16, 'axes.labelweight': 'bold', 'figure.figsize': (8,6)})"
   ]
  },
  {
   "cell_type": "markdown",
   "metadata": {},
   "source": [
    "## Part 1:"
   ]
  },
  {
   "cell_type": "markdown",
   "metadata": {},
   "source": [
    "Recall as a final goal of this project. We want to build and deploy ensemble machine learning models in the cloud, where features are outputs of different climate models and the target is the actual rainfall observation. In this milestone, you'll actually build these ensemble machine learning models in the cloud.  \n",
    "\n",
    "**Your tasks:**\n",
    "\n",
    "1. Read the data CSV from your s3 bucket. \n",
    "2. Drop rows with nans. \n",
    "3. Split the data into train (80%) and test (20%) portions with `random_state=123`. \n",
    "4. Carry out EDA of your choice on the train split. \n",
    "5. Train ensemble machine learning model using `RandomForestRegressor` and evaluate with metric of your choice (e.g., `RMSE`) by considering `Observed` as the target column. \n",
    "6. Discuss your results. Are you getting better results with ensemble models compared to the individual climate models? \n",
    "\n",
    "> Recall that individual columns in the data are predictions of different climate models. "
   ]
  },
  {
   "cell_type": "code",
   "execution_count": 2,
   "metadata": {},
   "outputs": [],
   "source": [
    "df = pd.read_csv(\"s3://mds-s3-student96/ml_data_SYD.csv\", index_col=0, parse_dates=True, storage_options=aws_credentials)"
   ]
  },
  {
   "cell_type": "markdown",
   "metadata": {},
   "source": [
    "### 1. Read the data CSV from S3 bucket"
   ]
  },
  {
   "cell_type": "code",
   "execution_count": 3,
   "metadata": {},
   "outputs": [
    {
     "data": {
      "text/html": [
       "<div>\n",
       "<style scoped>\n",
       "    .dataframe tbody tr th:only-of-type {\n",
       "        vertical-align: middle;\n",
       "    }\n",
       "\n",
       "    .dataframe tbody tr th {\n",
       "        vertical-align: top;\n",
       "    }\n",
       "\n",
       "    .dataframe thead th {\n",
       "        text-align: right;\n",
       "    }\n",
       "</style>\n",
       "<table border=\"1\" class=\"dataframe\">\n",
       "  <thead>\n",
       "    <tr style=\"text-align: right;\">\n",
       "      <th></th>\n",
       "      <th>ACCESS-CM2</th>\n",
       "      <th>ACCESS-ESM1-5</th>\n",
       "      <th>AWI-ESM-1-1-LR</th>\n",
       "      <th>BCC-CSM2-MR</th>\n",
       "      <th>BCC-ESM1</th>\n",
       "      <th>CMCC-CM2-HR4</th>\n",
       "      <th>CMCC-CM2-SR5</th>\n",
       "      <th>CMCC-ESM2</th>\n",
       "      <th>CanESM5</th>\n",
       "      <th>EC-Earth3-Veg-LR</th>\n",
       "      <th>...</th>\n",
       "      <th>MPI-ESM-1-2-HAM</th>\n",
       "      <th>MPI-ESM1-2-HR</th>\n",
       "      <th>MPI-ESM1-2-LR</th>\n",
       "      <th>MRI-ESM2-0</th>\n",
       "      <th>NESM3</th>\n",
       "      <th>NorESM2-LM</th>\n",
       "      <th>NorESM2-MM</th>\n",
       "      <th>SAM0-UNICON</th>\n",
       "      <th>TaiESM1</th>\n",
       "      <th>Observed</th>\n",
       "    </tr>\n",
       "    <tr>\n",
       "      <th>time</th>\n",
       "      <th></th>\n",
       "      <th></th>\n",
       "      <th></th>\n",
       "      <th></th>\n",
       "      <th></th>\n",
       "      <th></th>\n",
       "      <th></th>\n",
       "      <th></th>\n",
       "      <th></th>\n",
       "      <th></th>\n",
       "      <th></th>\n",
       "      <th></th>\n",
       "      <th></th>\n",
       "      <th></th>\n",
       "      <th></th>\n",
       "      <th></th>\n",
       "      <th></th>\n",
       "      <th></th>\n",
       "      <th></th>\n",
       "      <th></th>\n",
       "      <th></th>\n",
       "    </tr>\n",
       "  </thead>\n",
       "  <tbody>\n",
       "    <tr>\n",
       "      <th>1889-01-01</th>\n",
       "      <td>0.040427</td>\n",
       "      <td>1.814552</td>\n",
       "      <td>35.579336</td>\n",
       "      <td>4.268112e+00</td>\n",
       "      <td>1.107466e-03</td>\n",
       "      <td>11.410537</td>\n",
       "      <td>3.322009e-08</td>\n",
       "      <td>2.668800</td>\n",
       "      <td>1.321215</td>\n",
       "      <td>1.515293</td>\n",
       "      <td>...</td>\n",
       "      <td>4.244226e-13</td>\n",
       "      <td>1.390174e-13</td>\n",
       "      <td>6.537884e-05</td>\n",
       "      <td>3.445495e-06</td>\n",
       "      <td>1.576096e+01</td>\n",
       "      <td>4.759651e-05</td>\n",
       "      <td>2.451075</td>\n",
       "      <td>0.221324</td>\n",
       "      <td>2.257933</td>\n",
       "      <td>0.006612</td>\n",
       "    </tr>\n",
       "    <tr>\n",
       "      <th>1889-01-02</th>\n",
       "      <td>0.073777</td>\n",
       "      <td>0.303965</td>\n",
       "      <td>4.596520</td>\n",
       "      <td>1.190141e+00</td>\n",
       "      <td>1.015323e-04</td>\n",
       "      <td>4.014984</td>\n",
       "      <td>1.312700e+00</td>\n",
       "      <td>0.946211</td>\n",
       "      <td>2.788724</td>\n",
       "      <td>4.771375</td>\n",
       "      <td>...</td>\n",
       "      <td>4.409552e+00</td>\n",
       "      <td>1.222283e-01</td>\n",
       "      <td>1.049131e-13</td>\n",
       "      <td>4.791993e-09</td>\n",
       "      <td>3.675510e-01</td>\n",
       "      <td>4.350863e-01</td>\n",
       "      <td>0.477231</td>\n",
       "      <td>3.757179</td>\n",
       "      <td>2.287381</td>\n",
       "      <td>0.090422</td>\n",
       "    </tr>\n",
       "    <tr>\n",
       "      <th>1889-01-03</th>\n",
       "      <td>0.232656</td>\n",
       "      <td>0.019976</td>\n",
       "      <td>5.927467</td>\n",
       "      <td>1.003845e-09</td>\n",
       "      <td>1.760345e-05</td>\n",
       "      <td>9.660565</td>\n",
       "      <td>9.103720e+00</td>\n",
       "      <td>0.431999</td>\n",
       "      <td>0.003672</td>\n",
       "      <td>4.233980</td>\n",
       "      <td>...</td>\n",
       "      <td>2.269300e-01</td>\n",
       "      <td>3.762301e-01</td>\n",
       "      <td>9.758706e-14</td>\n",
       "      <td>6.912302e-01</td>\n",
       "      <td>1.562869e-01</td>\n",
       "      <td>9.561101e+00</td>\n",
       "      <td>0.023083</td>\n",
       "      <td>0.253357</td>\n",
       "      <td>1.199909</td>\n",
       "      <td>1.401452</td>\n",
       "    </tr>\n",
       "    <tr>\n",
       "      <th>1889-01-04</th>\n",
       "      <td>0.911319</td>\n",
       "      <td>13.623777</td>\n",
       "      <td>8.029624</td>\n",
       "      <td>8.225225e-02</td>\n",
       "      <td>1.808932e-01</td>\n",
       "      <td>3.951528</td>\n",
       "      <td>1.317160e+01</td>\n",
       "      <td>0.368693</td>\n",
       "      <td>0.013578</td>\n",
       "      <td>15.252495</td>\n",
       "      <td>...</td>\n",
       "      <td>2.344586e-02</td>\n",
       "      <td>4.214019e-01</td>\n",
       "      <td>7.060915e-03</td>\n",
       "      <td>3.835721e-02</td>\n",
       "      <td>2.472226e-07</td>\n",
       "      <td>5.301038e-01</td>\n",
       "      <td>0.002699</td>\n",
       "      <td>2.185454</td>\n",
       "      <td>2.106737</td>\n",
       "      <td>14.869798</td>\n",
       "    </tr>\n",
       "    <tr>\n",
       "      <th>1889-01-05</th>\n",
       "      <td>0.698013</td>\n",
       "      <td>0.021048</td>\n",
       "      <td>2.132686</td>\n",
       "      <td>2.496841e+00</td>\n",
       "      <td>4.708019e-09</td>\n",
       "      <td>2.766362</td>\n",
       "      <td>1.822940e+01</td>\n",
       "      <td>0.339267</td>\n",
       "      <td>0.002468</td>\n",
       "      <td>11.920356</td>\n",
       "      <td>...</td>\n",
       "      <td>4.270161e-13</td>\n",
       "      <td>1.879692e-01</td>\n",
       "      <td>4.504985e+00</td>\n",
       "      <td>3.506923e-07</td>\n",
       "      <td>1.949792e-13</td>\n",
       "      <td>1.460928e-10</td>\n",
       "      <td>0.001026</td>\n",
       "      <td>2.766507</td>\n",
       "      <td>1.763335</td>\n",
       "      <td>0.467628</td>\n",
       "    </tr>\n",
       "  </tbody>\n",
       "</table>\n",
       "<p>5 rows × 26 columns</p>\n",
       "</div>"
      ],
      "text/plain": [
       "            ACCESS-CM2  ACCESS-ESM1-5  AWI-ESM-1-1-LR   BCC-CSM2-MR  \\\n",
       "time                                                                  \n",
       "1889-01-01    0.040427       1.814552       35.579336  4.268112e+00   \n",
       "1889-01-02    0.073777       0.303965        4.596520  1.190141e+00   \n",
       "1889-01-03    0.232656       0.019976        5.927467  1.003845e-09   \n",
       "1889-01-04    0.911319      13.623777        8.029624  8.225225e-02   \n",
       "1889-01-05    0.698013       0.021048        2.132686  2.496841e+00   \n",
       "\n",
       "                BCC-ESM1  CMCC-CM2-HR4  CMCC-CM2-SR5  CMCC-ESM2   CanESM5  \\\n",
       "time                                                                        \n",
       "1889-01-01  1.107466e-03     11.410537  3.322009e-08   2.668800  1.321215   \n",
       "1889-01-02  1.015323e-04      4.014984  1.312700e+00   0.946211  2.788724   \n",
       "1889-01-03  1.760345e-05      9.660565  9.103720e+00   0.431999  0.003672   \n",
       "1889-01-04  1.808932e-01      3.951528  1.317160e+01   0.368693  0.013578   \n",
       "1889-01-05  4.708019e-09      2.766362  1.822940e+01   0.339267  0.002468   \n",
       "\n",
       "            EC-Earth3-Veg-LR  ...  MPI-ESM-1-2-HAM  MPI-ESM1-2-HR  \\\n",
       "time                          ...                                   \n",
       "1889-01-01          1.515293  ...     4.244226e-13   1.390174e-13   \n",
       "1889-01-02          4.771375  ...     4.409552e+00   1.222283e-01   \n",
       "1889-01-03          4.233980  ...     2.269300e-01   3.762301e-01   \n",
       "1889-01-04         15.252495  ...     2.344586e-02   4.214019e-01   \n",
       "1889-01-05         11.920356  ...     4.270161e-13   1.879692e-01   \n",
       "\n",
       "            MPI-ESM1-2-LR    MRI-ESM2-0         NESM3    NorESM2-LM  \\\n",
       "time                                                                  \n",
       "1889-01-01   6.537884e-05  3.445495e-06  1.576096e+01  4.759651e-05   \n",
       "1889-01-02   1.049131e-13  4.791993e-09  3.675510e-01  4.350863e-01   \n",
       "1889-01-03   9.758706e-14  6.912302e-01  1.562869e-01  9.561101e+00   \n",
       "1889-01-04   7.060915e-03  3.835721e-02  2.472226e-07  5.301038e-01   \n",
       "1889-01-05   4.504985e+00  3.506923e-07  1.949792e-13  1.460928e-10   \n",
       "\n",
       "            NorESM2-MM  SAM0-UNICON   TaiESM1   Observed  \n",
       "time                                                      \n",
       "1889-01-01    2.451075     0.221324  2.257933   0.006612  \n",
       "1889-01-02    0.477231     3.757179  2.287381   0.090422  \n",
       "1889-01-03    0.023083     0.253357  1.199909   1.401452  \n",
       "1889-01-04    0.002699     2.185454  2.106737  14.869798  \n",
       "1889-01-05    0.001026     2.766507  1.763335   0.467628  \n",
       "\n",
       "[5 rows x 26 columns]"
      ]
     },
     "execution_count": 3,
     "metadata": {},
     "output_type": "execute_result"
    }
   ],
   "source": [
    "df.head()"
   ]
  },
  {
   "cell_type": "code",
   "execution_count": 4,
   "metadata": {},
   "outputs": [
    {
     "data": {
      "text/plain": [
       "(46020, 26)"
      ]
     },
     "execution_count": 4,
     "metadata": {},
     "output_type": "execute_result"
    }
   ],
   "source": [
    "df.shape"
   ]
  },
  {
   "cell_type": "markdown",
   "metadata": {},
   "source": [
    "### 2. Drop rows with nans"
   ]
  },
  {
   "cell_type": "code",
   "execution_count": 5,
   "metadata": {},
   "outputs": [],
   "source": [
    "df_model = df.dropna()"
   ]
  },
  {
   "cell_type": "code",
   "execution_count": 6,
   "metadata": {},
   "outputs": [
    {
     "data": {
      "text/plain": [
       "(45989, 26)"
      ]
     },
     "execution_count": 6,
     "metadata": {},
     "output_type": "execute_result"
    }
   ],
   "source": [
    "df_model.shape"
   ]
  },
  {
   "cell_type": "markdown",
   "metadata": {},
   "source": [
    "### 3. Split the data into train (80%) and test (20%) portions with random_state=123."
   ]
  },
  {
   "cell_type": "code",
   "execution_count": 7,
   "metadata": {},
   "outputs": [],
   "source": [
    "df_train, df_test = train_test_split(df_model, test_size=0.2, random_state=123)"
   ]
  },
  {
   "cell_type": "markdown",
   "metadata": {},
   "source": [
    "### 4. Carry out EDA of your choice on the train split"
   ]
  },
  {
   "cell_type": "code",
   "execution_count": 8,
   "metadata": {},
   "outputs": [
    {
     "data": {
      "text/html": [
       "<div>\n",
       "<style scoped>\n",
       "    .dataframe tbody tr th:only-of-type {\n",
       "        vertical-align: middle;\n",
       "    }\n",
       "\n",
       "    .dataframe tbody tr th {\n",
       "        vertical-align: top;\n",
       "    }\n",
       "\n",
       "    .dataframe thead th {\n",
       "        text-align: right;\n",
       "    }\n",
       "</style>\n",
       "<table border=\"1\" class=\"dataframe\">\n",
       "  <thead>\n",
       "    <tr style=\"text-align: right;\">\n",
       "      <th></th>\n",
       "      <th>ACCESS-CM2</th>\n",
       "      <th>ACCESS-ESM1-5</th>\n",
       "      <th>AWI-ESM-1-1-LR</th>\n",
       "      <th>BCC-CSM2-MR</th>\n",
       "      <th>BCC-ESM1</th>\n",
       "      <th>CMCC-CM2-HR4</th>\n",
       "      <th>CMCC-CM2-SR5</th>\n",
       "      <th>CMCC-ESM2</th>\n",
       "      <th>CanESM5</th>\n",
       "      <th>EC-Earth3-Veg-LR</th>\n",
       "      <th>...</th>\n",
       "      <th>MPI-ESM-1-2-HAM</th>\n",
       "      <th>MPI-ESM1-2-HR</th>\n",
       "      <th>MPI-ESM1-2-LR</th>\n",
       "      <th>MRI-ESM2-0</th>\n",
       "      <th>NESM3</th>\n",
       "      <th>NorESM2-LM</th>\n",
       "      <th>NorESM2-MM</th>\n",
       "      <th>SAM0-UNICON</th>\n",
       "      <th>TaiESM1</th>\n",
       "      <th>Observed</th>\n",
       "    </tr>\n",
       "  </thead>\n",
       "  <tbody>\n",
       "    <tr>\n",
       "      <th>count</th>\n",
       "      <td>46020.000000</td>\n",
       "      <td>46020.000000</td>\n",
       "      <td>4.602000e+04</td>\n",
       "      <td>4.599000e+04</td>\n",
       "      <td>4.599000e+04</td>\n",
       "      <td>45990.000000</td>\n",
       "      <td>4.599000e+04</td>\n",
       "      <td>4.599000e+04</td>\n",
       "      <td>45990.000000</td>\n",
       "      <td>4.602000e+04</td>\n",
       "      <td>...</td>\n",
       "      <td>4.602000e+04</td>\n",
       "      <td>4.602000e+04</td>\n",
       "      <td>4.602000e+04</td>\n",
       "      <td>4.602000e+04</td>\n",
       "      <td>4.602000e+04</td>\n",
       "      <td>45990.000000</td>\n",
       "      <td>45990.000000</td>\n",
       "      <td>4.598900e+04</td>\n",
       "      <td>4.599000e+04</td>\n",
       "      <td>46020.000000</td>\n",
       "    </tr>\n",
       "    <tr>\n",
       "      <th>mean</th>\n",
       "      <td>2.430848</td>\n",
       "      <td>2.912583</td>\n",
       "      <td>3.683434e+00</td>\n",
       "      <td>2.214538e+00</td>\n",
       "      <td>2.766201e+00</td>\n",
       "      <td>3.094078</td>\n",
       "      <td>3.592109e+00</td>\n",
       "      <td>3.498336e+00</td>\n",
       "      <td>2.906267</td>\n",
       "      <td>2.561700e+00</td>\n",
       "      <td>...</td>\n",
       "      <td>3.199937e+00</td>\n",
       "      <td>1.307366e+00</td>\n",
       "      <td>2.053704e+00</td>\n",
       "      <td>1.522702e+00</td>\n",
       "      <td>1.740428e+00</td>\n",
       "      <td>2.466873</td>\n",
       "      <td>2.874875</td>\n",
       "      <td>3.377089e+00</td>\n",
       "      <td>3.439337e+00</td>\n",
       "      <td>2.747656</td>\n",
       "    </tr>\n",
       "    <tr>\n",
       "      <th>std</th>\n",
       "      <td>6.803409</td>\n",
       "      <td>6.949986</td>\n",
       "      <td>7.213876e+00</td>\n",
       "      <td>6.519289e+00</td>\n",
       "      <td>6.046297e+00</td>\n",
       "      <td>6.428127</td>\n",
       "      <td>7.380154e+00</td>\n",
       "      <td>7.081685e+00</td>\n",
       "      <td>6.952597</td>\n",
       "      <td>5.754092e+00</td>\n",
       "      <td>...</td>\n",
       "      <td>6.924067e+00</td>\n",
       "      <td>4.885537e+00</td>\n",
       "      <td>5.373245e+00</td>\n",
       "      <td>4.949345e+00</td>\n",
       "      <td>4.872257e+00</td>\n",
       "      <td>5.840286</td>\n",
       "      <td>7.042023</td>\n",
       "      <td>7.917762e+00</td>\n",
       "      <td>7.577999e+00</td>\n",
       "      <td>8.188408</td>\n",
       "    </tr>\n",
       "    <tr>\n",
       "      <th>min</th>\n",
       "      <td>0.000000</td>\n",
       "      <td>0.000000</td>\n",
       "      <td>9.161142e-14</td>\n",
       "      <td>4.211430e-24</td>\n",
       "      <td>1.091904e-24</td>\n",
       "      <td>0.000000</td>\n",
       "      <td>-4.503054e-17</td>\n",
       "      <td>-3.186177e-19</td>\n",
       "      <td>0.000000</td>\n",
       "      <td>-9.934637e-19</td>\n",
       "      <td>...</td>\n",
       "      <td>3.315622e-13</td>\n",
       "      <td>1.088608e-13</td>\n",
       "      <td>9.155419e-14</td>\n",
       "      <td>9.479186e-33</td>\n",
       "      <td>1.426891e-13</td>\n",
       "      <td>0.000000</td>\n",
       "      <td>0.000000</td>\n",
       "      <td>-3.604673e-17</td>\n",
       "      <td>-2.148475e-14</td>\n",
       "      <td>0.000000</td>\n",
       "    </tr>\n",
       "    <tr>\n",
       "      <th>25%</th>\n",
       "      <td>0.053891</td>\n",
       "      <td>0.021485</td>\n",
       "      <td>2.868497e-02</td>\n",
       "      <td>5.258976e-04</td>\n",
       "      <td>2.486321e-03</td>\n",
       "      <td>0.138613</td>\n",
       "      <td>9.038548e-02</td>\n",
       "      <td>9.034851e-02</td>\n",
       "      <td>0.022486</td>\n",
       "      <td>1.215935e-02</td>\n",
       "      <td>...</td>\n",
       "      <td>1.156703e-04</td>\n",
       "      <td>1.270097e-13</td>\n",
       "      <td>1.353854e-13</td>\n",
       "      <td>5.576867e-05</td>\n",
       "      <td>1.864846e-13</td>\n",
       "      <td>0.005704</td>\n",
       "      <td>0.010023</td>\n",
       "      <td>3.691410e-02</td>\n",
       "      <td>4.943277e-02</td>\n",
       "      <td>0.008082</td>\n",
       "    </tr>\n",
       "    <tr>\n",
       "      <th>50%</th>\n",
       "      <td>0.191654</td>\n",
       "      <td>0.494037</td>\n",
       "      <td>5.883178e-01</td>\n",
       "      <td>9.767944e-02</td>\n",
       "      <td>2.955762e-01</td>\n",
       "      <td>0.639981</td>\n",
       "      <td>8.390981e-01</td>\n",
       "      <td>8.362300e-01</td>\n",
       "      <td>0.341997</td>\n",
       "      <td>4.318237e-01</td>\n",
       "      <td>...</td>\n",
       "      <td>2.071755e-01</td>\n",
       "      <td>1.599267e-03</td>\n",
       "      <td>1.152805e-01</td>\n",
       "      <td>3.213593e-02</td>\n",
       "      <td>5.188907e-02</td>\n",
       "      <td>0.171177</td>\n",
       "      <td>0.255663</td>\n",
       "      <td>6.518721e-01</td>\n",
       "      <td>6.721456e-01</td>\n",
       "      <td>0.163212</td>\n",
       "    </tr>\n",
       "    <tr>\n",
       "      <th>75%</th>\n",
       "      <td>1.432705</td>\n",
       "      <td>2.394521</td>\n",
       "      <td>3.587268e+00</td>\n",
       "      <td>1.336948e+00</td>\n",
       "      <td>2.503829e+00</td>\n",
       "      <td>3.198158</td>\n",
       "      <td>3.744956e+00</td>\n",
       "      <td>3.638824e+00</td>\n",
       "      <td>2.565111</td>\n",
       "      <td>2.297699e+00</td>\n",
       "      <td>...</td>\n",
       "      <td>2.700038e+00</td>\n",
       "      <td>3.536958e-01</td>\n",
       "      <td>1.190994e+00</td>\n",
       "      <td>6.733754e-01</td>\n",
       "      <td>7.939728e-01</td>\n",
       "      <td>1.842040</td>\n",
       "      <td>2.466766</td>\n",
       "      <td>3.270405e+00</td>\n",
       "      <td>3.236055e+00</td>\n",
       "      <td>1.634696</td>\n",
       "    </tr>\n",
       "    <tr>\n",
       "      <th>max</th>\n",
       "      <td>149.967634</td>\n",
       "      <td>157.605713</td>\n",
       "      <td>8.946575e+01</td>\n",
       "      <td>1.344652e+02</td>\n",
       "      <td>8.713472e+01</td>\n",
       "      <td>124.952390</td>\n",
       "      <td>1.401478e+02</td>\n",
       "      <td>1.375916e+02</td>\n",
       "      <td>135.569753</td>\n",
       "      <td>1.342262e+02</td>\n",
       "      <td>...</td>\n",
       "      <td>9.306766e+01</td>\n",
       "      <td>1.095008e+02</td>\n",
       "      <td>8.005998e+01</td>\n",
       "      <td>1.051568e+02</td>\n",
       "      <td>8.045783e+01</td>\n",
       "      <td>114.898109</td>\n",
       "      <td>163.164524</td>\n",
       "      <td>1.549718e+02</td>\n",
       "      <td>1.673562e+02</td>\n",
       "      <td>256.455080</td>\n",
       "    </tr>\n",
       "  </tbody>\n",
       "</table>\n",
       "<p>8 rows × 26 columns</p>\n",
       "</div>"
      ],
      "text/plain": [
       "         ACCESS-CM2  ACCESS-ESM1-5  AWI-ESM-1-1-LR   BCC-CSM2-MR  \\\n",
       "count  46020.000000   46020.000000    4.602000e+04  4.599000e+04   \n",
       "mean       2.430848       2.912583    3.683434e+00  2.214538e+00   \n",
       "std        6.803409       6.949986    7.213876e+00  6.519289e+00   \n",
       "min        0.000000       0.000000    9.161142e-14  4.211430e-24   \n",
       "25%        0.053891       0.021485    2.868497e-02  5.258976e-04   \n",
       "50%        0.191654       0.494037    5.883178e-01  9.767944e-02   \n",
       "75%        1.432705       2.394521    3.587268e+00  1.336948e+00   \n",
       "max      149.967634     157.605713    8.946575e+01  1.344652e+02   \n",
       "\n",
       "           BCC-ESM1  CMCC-CM2-HR4  CMCC-CM2-SR5     CMCC-ESM2       CanESM5  \\\n",
       "count  4.599000e+04  45990.000000  4.599000e+04  4.599000e+04  45990.000000   \n",
       "mean   2.766201e+00      3.094078  3.592109e+00  3.498336e+00      2.906267   \n",
       "std    6.046297e+00      6.428127  7.380154e+00  7.081685e+00      6.952597   \n",
       "min    1.091904e-24      0.000000 -4.503054e-17 -3.186177e-19      0.000000   \n",
       "25%    2.486321e-03      0.138613  9.038548e-02  9.034851e-02      0.022486   \n",
       "50%    2.955762e-01      0.639981  8.390981e-01  8.362300e-01      0.341997   \n",
       "75%    2.503829e+00      3.198158  3.744956e+00  3.638824e+00      2.565111   \n",
       "max    8.713472e+01    124.952390  1.401478e+02  1.375916e+02    135.569753   \n",
       "\n",
       "       EC-Earth3-Veg-LR  ...  MPI-ESM-1-2-HAM  MPI-ESM1-2-HR  MPI-ESM1-2-LR  \\\n",
       "count      4.602000e+04  ...     4.602000e+04   4.602000e+04   4.602000e+04   \n",
       "mean       2.561700e+00  ...     3.199937e+00   1.307366e+00   2.053704e+00   \n",
       "std        5.754092e+00  ...     6.924067e+00   4.885537e+00   5.373245e+00   \n",
       "min       -9.934637e-19  ...     3.315622e-13   1.088608e-13   9.155419e-14   \n",
       "25%        1.215935e-02  ...     1.156703e-04   1.270097e-13   1.353854e-13   \n",
       "50%        4.318237e-01  ...     2.071755e-01   1.599267e-03   1.152805e-01   \n",
       "75%        2.297699e+00  ...     2.700038e+00   3.536958e-01   1.190994e+00   \n",
       "max        1.342262e+02  ...     9.306766e+01   1.095008e+02   8.005998e+01   \n",
       "\n",
       "         MRI-ESM2-0         NESM3    NorESM2-LM    NorESM2-MM   SAM0-UNICON  \\\n",
       "count  4.602000e+04  4.602000e+04  45990.000000  45990.000000  4.598900e+04   \n",
       "mean   1.522702e+00  1.740428e+00      2.466873      2.874875  3.377089e+00   \n",
       "std    4.949345e+00  4.872257e+00      5.840286      7.042023  7.917762e+00   \n",
       "min    9.479186e-33  1.426891e-13      0.000000      0.000000 -3.604673e-17   \n",
       "25%    5.576867e-05  1.864846e-13      0.005704      0.010023  3.691410e-02   \n",
       "50%    3.213593e-02  5.188907e-02      0.171177      0.255663  6.518721e-01   \n",
       "75%    6.733754e-01  7.939728e-01      1.842040      2.466766  3.270405e+00   \n",
       "max    1.051568e+02  8.045783e+01    114.898109    163.164524  1.549718e+02   \n",
       "\n",
       "            TaiESM1      Observed  \n",
       "count  4.599000e+04  46020.000000  \n",
       "mean   3.439337e+00      2.747656  \n",
       "std    7.577999e+00      8.188408  \n",
       "min   -2.148475e-14      0.000000  \n",
       "25%    4.943277e-02      0.008082  \n",
       "50%    6.721456e-01      0.163212  \n",
       "75%    3.236055e+00      1.634696  \n",
       "max    1.673562e+02    256.455080  \n",
       "\n",
       "[8 rows x 26 columns]"
      ]
     },
     "execution_count": 8,
     "metadata": {},
     "output_type": "execute_result"
    }
   ],
   "source": [
    "df.describe()"
   ]
  },
  {
   "cell_type": "code",
   "execution_count": 9,
   "metadata": {},
   "outputs": [
    {
     "data": {
      "text/plain": [
       "(-10.0, 50.0)"
      ]
     },
     "execution_count": 9,
     "metadata": {},
     "output_type": "execute_result"
    },
    {
     "data": {
      "image/png": "[encoded data removed]",
      "text/plain": [
       "<Figure size 576x432 with 1 Axes>"
      ]
     },
     "metadata": {},
     "output_type": "display_data"
    }
   ],
   "source": [
    "df_train[\"Observed\"].plot(kind=\"hist\",\n",
    "                        bins=150);\n",
    "plt.xlabel(\"Observed Rainfall (mm)\");\n",
    "plt.xlim(-10,50)\n"
   ]
  },
  {
   "cell_type": "markdown",
   "metadata": {},
   "source": [
    "### Step 5: Train ensemble machine learning model using RandomForestRegressor and evaluate with metric of your choice (e.g., RMSE) by considering Observed as the target column."
   ]
  },
  {
   "cell_type": "code",
   "execution_count": 10,
   "metadata": {},
   "outputs": [
    {
     "data": {
      "text/plain": [
       "RandomForestRegressor()"
      ]
     },
     "execution_count": 10,
     "metadata": {},
     "output_type": "execute_result"
    }
   ],
   "source": [
    "X_train, y_train = df_train.drop(columns=[\"Observed\"]), df_train[\"Observed\"]\n",
    "X_test, y_test = df_test.drop(columns=[\"Observed\"]), df_test[\"Observed\"]\n",
    "model = RandomForestRegressor()\n",
    "model.fit(X_train, y_train)"
   ]
  },
  {
   "cell_type": "markdown",
   "metadata": {},
   "source": [
    "### 6. Discuss your results. Are you getting better results with ensemble models compared to the individual climate models?"
   ]
  },
  {
   "cell_type": "code",
   "execution_count": 11,
   "metadata": {},
   "outputs": [
    {
     "data": {
      "text/html": [
       "<div>\n",
       "<style scoped>\n",
       "    .dataframe tbody tr th:only-of-type {\n",
       "        vertical-align: middle;\n",
       "    }\n",
       "\n",
       "    .dataframe tbody tr th {\n",
       "        vertical-align: top;\n",
       "    }\n",
       "\n",
       "    .dataframe thead th {\n",
       "        text-align: right;\n",
       "    }\n",
       "</style>\n",
       "<table border=\"1\" class=\"dataframe\">\n",
       "  <thead>\n",
       "    <tr style=\"text-align: right;\">\n",
       "      <th></th>\n",
       "      <th>RMSE</th>\n",
       "    </tr>\n",
       "  </thead>\n",
       "  <tbody>\n",
       "    <tr>\n",
       "      <th>ensemble model</th>\n",
       "      <td>3.095956</td>\n",
       "    </tr>\n",
       "    <tr>\n",
       "      <th>KIOST-ESM</th>\n",
       "      <td>9.196532</td>\n",
       "    </tr>\n",
       "    <tr>\n",
       "      <th>FGOALS-g3</th>\n",
       "      <td>9.284867</td>\n",
       "    </tr>\n",
       "    <tr>\n",
       "      <th>NESM3</th>\n",
       "      <td>9.371897</td>\n",
       "    </tr>\n",
       "    <tr>\n",
       "      <th>MPI-ESM1-2-HR</th>\n",
       "      <td>9.489925</td>\n",
       "    </tr>\n",
       "    <tr>\n",
       "      <th>MRI-ESM2-0</th>\n",
       "      <td>9.609047</td>\n",
       "    </tr>\n",
       "    <tr>\n",
       "      <th>MPI-ESM1-2-LR</th>\n",
       "      <td>9.681899</td>\n",
       "    </tr>\n",
       "    <tr>\n",
       "      <th>GFDL-CM4</th>\n",
       "      <td>9.889638</td>\n",
       "    </tr>\n",
       "    <tr>\n",
       "      <th>EC-Earth3-Veg-LR</th>\n",
       "      <td>9.902149</td>\n",
       "    </tr>\n",
       "    <tr>\n",
       "      <th>NorESM2-LM</th>\n",
       "      <td>9.918216</td>\n",
       "    </tr>\n",
       "    <tr>\n",
       "      <th>BCC-ESM1</th>\n",
       "      <td>10.071200</td>\n",
       "    </tr>\n",
       "    <tr>\n",
       "      <th>BCC-CSM2-MR</th>\n",
       "      <td>10.294775</td>\n",
       "    </tr>\n",
       "    <tr>\n",
       "      <th>CMCC-CM2-HR4</th>\n",
       "      <td>10.353439</td>\n",
       "    </tr>\n",
       "    <tr>\n",
       "      <th>ACCESS-CM2</th>\n",
       "      <td>10.567243</td>\n",
       "    </tr>\n",
       "    <tr>\n",
       "      <th>CanESM5</th>\n",
       "      <td>10.571301</td>\n",
       "    </tr>\n",
       "    <tr>\n",
       "      <th>MPI-ESM-1-2-HAM</th>\n",
       "      <td>10.615042</td>\n",
       "    </tr>\n",
       "    <tr>\n",
       "      <th>ACCESS-ESM1-5</th>\n",
       "      <td>10.643536</td>\n",
       "    </tr>\n",
       "    <tr>\n",
       "      <th>NorESM2-MM</th>\n",
       "      <td>10.683340</td>\n",
       "    </tr>\n",
       "    <tr>\n",
       "      <th>CMCC-ESM2</th>\n",
       "      <td>10.713240</td>\n",
       "    </tr>\n",
       "    <tr>\n",
       "      <th>AWI-ESM-1-1-LR</th>\n",
       "      <td>10.876956</td>\n",
       "    </tr>\n",
       "    <tr>\n",
       "      <th>CMCC-CM2-SR5</th>\n",
       "      <td>10.935517</td>\n",
       "    </tr>\n",
       "    <tr>\n",
       "      <th>TaiESM1</th>\n",
       "      <td>11.008567</td>\n",
       "    </tr>\n",
       "    <tr>\n",
       "      <th>INM-CM4-8</th>\n",
       "      <td>11.088450</td>\n",
       "    </tr>\n",
       "    <tr>\n",
       "      <th>MIROC6</th>\n",
       "      <td>11.235601</td>\n",
       "    </tr>\n",
       "    <tr>\n",
       "      <th>SAM0-UNICON</th>\n",
       "      <td>11.318714</td>\n",
       "    </tr>\n",
       "    <tr>\n",
       "      <th>INM-CM5-0</th>\n",
       "      <td>11.624718</td>\n",
       "    </tr>\n",
       "  </tbody>\n",
       "</table>\n",
       "</div>"
      ],
      "text/plain": [
       "                       RMSE\n",
       "ensemble model     3.095956\n",
       "KIOST-ESM          9.196532\n",
       "FGOALS-g3          9.284867\n",
       "NESM3              9.371897\n",
       "MPI-ESM1-2-HR      9.489925\n",
       "MRI-ESM2-0         9.609047\n",
       "MPI-ESM1-2-LR      9.681899\n",
       "GFDL-CM4           9.889638\n",
       "EC-Earth3-Veg-LR   9.902149\n",
       "NorESM2-LM         9.918216\n",
       "BCC-ESM1          10.071200\n",
       "BCC-CSM2-MR       10.294775\n",
       "CMCC-CM2-HR4      10.353439\n",
       "ACCESS-CM2        10.567243\n",
       "CanESM5           10.571301\n",
       "MPI-ESM-1-2-HAM   10.615042\n",
       "ACCESS-ESM1-5     10.643536\n",
       "NorESM2-MM        10.683340\n",
       "CMCC-ESM2         10.713240\n",
       "AWI-ESM-1-1-LR    10.876956\n",
       "CMCC-CM2-SR5      10.935517\n",
       "TaiESM1           11.008567\n",
       "INM-CM4-8         11.088450\n",
       "MIROC6            11.235601\n",
       "SAM0-UNICON       11.318714\n",
       "INM-CM5-0         11.624718"
      ]
     },
     "execution_count": 11,
     "metadata": {},
     "output_type": "execute_result"
    }
   ],
   "source": [
    "rmse_dict = {}\n",
    "y_predict = model.predict(X_train)\n",
    "rmse_dict[\"ensemble model\"] = mean_squared_error(y_train, y_predict, squared=False)\n",
    "\n",
    "for model_pred in X_train.columns:\n",
    "    rmse_dict[model_pred] = mean_squared_error(y_train, X_train[model_pred], squared=False)\n",
    "df_rmse = pd.DataFrame(rmse_dict, index=[\"RMSE\"]).transpose().sort_values(by=[\"RMSE\"])\n",
    "df_rmse"
   ]
  },
  {
   "cell_type": "markdown",
   "metadata": {},
   "source": [
    "> **Ensemble model using RandomForestRegressor with default parameter performs better with lowest RMSE as compared to other models**"
   ]
  },
  {
   "cell_type": "markdown",
   "metadata": {},
   "source": [
    "## Part 2:"
   ]
  },
  {
   "cell_type": "markdown",
   "metadata": {},
   "source": [
    "### Preparation for deploying model next week"
   ]
  },
  {
   "cell_type": "markdown",
   "metadata": {},
   "source": [
    "#### Complete task 4 from the milestone3 before coming here"
   ]
  },
  {
   "cell_type": "markdown",
   "metadata": {},
   "source": [
    "We’ve found ```n_estimators=100, max_depth=5``` to be the best hyperparameter settings with MLlib (from the task 4 from milestone3), here we then use the same hyperparameters to train a scikit-learn model. "
   ]
  },
  {
   "cell_type": "code",
   "execution_count": 12,
   "metadata": {},
   "outputs": [
    {
     "data": {
      "text/plain": [
       "RandomForestRegressor(bootstrap=False, max_depth=5)"
      ]
     },
     "execution_count": 12,
     "metadata": {},
     "output_type": "execute_result"
    }
   ],
   "source": [
    "model = RandomForestRegressor(n_estimators=100, max_depth=5, bootstrap=False)\n",
    "model.fit(X_train, y_train)"
   ]
  },
  {
   "cell_type": "code",
   "execution_count": 13,
   "metadata": {},
   "outputs": [
    {
     "name": "stdout",
     "output_type": "stream",
     "text": [
      "Train RMSE: 7.91\n",
      " Test RMSE: 8.72\n"
     ]
    }
   ],
   "source": [
    "print(f\"Train RMSE: {mean_squared_error(y_train, model.predict(X_train), squared=False):.2f}\")\n",
    "print(f\" Test RMSE: {mean_squared_error(y_test, model.predict(X_test), squared=False):.2f}\")"
   ]
  },
  {
   "cell_type": "code",
   "execution_count": 14,
   "metadata": {},
   "outputs": [
    {
     "data": {
      "text/plain": [
       "['model.joblib']"
      ]
     },
     "execution_count": 14,
     "metadata": {},
     "output_type": "execute_result"
    }
   ],
   "source": [
    "# ready to deploy\n",
    "dump(model, \"model.joblib\")"
   ]
  },
  {
   "cell_type": "markdown",
   "metadata": {},
   "source": [
    "***Upload model.joblib to s3. You choose how you want to upload it.***"
   ]
  },
  {
   "cell_type": "code",
   "execution_count": 15,
   "metadata": {},
   "outputs": [],
   "source": [
    "import boto3"
   ]
  },
  {
   "cell_type": "code",
   "execution_count": 16,
   "metadata": {},
   "outputs": [],
   "source": [
    "s3 = boto3.resource('s3', aws_access_key_id=aws_credentials[\"key\"], aws_secret_access_key=aws_credentials[\"secret\"])"
   ]
  },
  {
   "cell_type": "code",
   "execution_count": 17,
   "metadata": {},
   "outputs": [],
   "source": [
    "\n",
    "s3.meta.client.upload_file('model.joblib', 'mds-s3-student55', 'output/model.joblib')"
   ]
  },
  {
   "cell_type": "markdown",
   "metadata": {},
   "source": [
    "![](img/task3_p2.png)"
   ]
  }
 ],
 "metadata": {
  "kernelspec": {
   "display_name": "Python 3",
   "language": "python",
   "name": "python3"
  },
  "language_info": {
   "codemirror_mode": {
    "name": "ipython",
    "version": 3
   },
   "file_extension": ".py",
   "mimetype": "text/x-python",
   "name": "python",
   "nbconvert_exporter": "python",
   "pygments_lexer": "ipython3",
   "version": "3.8.8"
  }
 },
 "nbformat": 4,
 "nbformat_minor": 4
}
